{
 "cells": [
  {
   "cell_type": "code",
   "execution_count": 1,
   "metadata": {
    "collapsed": true,
    "deletable": true,
    "editable": true
   },
   "outputs": [],
   "source": [
    "import numpy as np\n",
    "import matplotlib\n",
    "import matplotlib.pyplot as plt"
   ]
  },
  {
   "cell_type": "code",
   "execution_count": 2,
   "metadata": {
    "collapsed": false,
    "deletable": true,
    "editable": true
   },
   "outputs": [],
   "source": [
    "#setup fonts\n",
    "font = {'size' : 20}\n",
    "\n",
    "matplotlib.rc('font', **font)"
   ]
  },
  {
   "cell_type": "code",
   "execution_count": 3,
   "metadata": {
    "collapsed": true,
    "deletable": true,
    "editable": true
   },
   "outputs": [],
   "source": [
    "# list of angles for which test was performed\n",
    "x = [ 65,  70,  75,  80,  85,  90,  95, 100, 105]\n",
    "\n",
    "# sucess rate for each angle (no of successes/total no of test)\n",
    "y = [0.0, 1.0, 1.0, 1.0, 1.0, 1.0, 0.7, 0.7, 0.2]\n",
    "\n",
    "x = np.array(x)\n",
    "x = 90 - x # 90 degree is reference\n",
    "\n",
    "y = np.array(y)"
   ]
  },
  {
   "cell_type": "code",
   "execution_count": 4,
   "metadata": {
    "collapsed": false,
    "deletable": true,
    "editable": true
   },
   "outputs": [],
   "source": [
    "fig = plt.figure()\n",
    "ax  = fig.add_subplot(111)\n",
    "\n",
    "ax.plot(x, y, 'g', lw=2)\n",
    "ax.set_ylim(0, 1.2)\n",
    "ax.grid(True)\n",
    "ax.spines['left'].set_position(('data',0.0))\n",
    "ax.set_xlabel('Angle of Inclination ($^\\circ$)')\n",
    "ax.set_ylabel('Success Rate')\n",
    "# src: http://stackoverflow.com/a/37816302\n",
    "ax.yaxis.set_label_coords(0.45,0.5)\n",
    "\n",
    "\n",
    "ax.spines['right'].set_color('none')\n",
    "ax.spines['top'].set_color('none')\n",
    "ax.xaxis.set_ticks_position('bottom')\n",
    "ax.yaxis.set_ticks_position('left')\n",
    "\n",
    "plt.savefig(\"success_rate.pdf\", bbox_inches='tight')\n",
    "plt.show()"
   ]
  },
  {
   "cell_type": "code",
   "execution_count": 5,
   "metadata": {
    "collapsed": false,
    "deletable": true,
    "editable": true
   },
   "outputs": [
    {
     "name": "stdout",
     "output_type": "stream",
     "text": [
      "sans-serif\n"
     ]
    }
   ],
   "source": [
    "print matplotlib.rcParams['font.family']"
   ]
  },
  {
   "cell_type": "code",
   "execution_count": null,
   "metadata": {
    "collapsed": true
   },
   "outputs": [],
   "source": []
  }
 ],
 "metadata": {
  "kernelspec": {
   "display_name": "Python 2",
   "language": "python",
   "name": "python2"
  },
  "language_info": {
   "codemirror_mode": {
    "name": "ipython",
    "version": 2
   },
   "file_extension": ".py",
   "mimetype": "text/x-python",
   "name": "python",
   "nbconvert_exporter": "python",
   "pygments_lexer": "ipython2",
   "version": "2.7.6"
  }
 },
 "nbformat": 4,
 "nbformat_minor": 1
}
